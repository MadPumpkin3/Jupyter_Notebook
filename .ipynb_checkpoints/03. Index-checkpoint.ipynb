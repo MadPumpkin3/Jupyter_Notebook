{
 "cells": [
  {
   "cell_type": "markdown",
   "id": "b59ffb3f",
   "metadata": {},
   "source": [
    "# 3. Index\n",
    "데이터에 접근할 수 있는 주소 값"
   ]
  },
  {
   "cell_type": "code",
   "execution_count": 1,
   "id": "a3abca6b",
   "metadata": {},
   "outputs": [
    {
     "data": {
      "text/plain": [
       "'유재석'"
      ]
     },
     "execution_count": 1,
     "metadata": {},
     "output_type": "execute_result"
    }
   ],
   "source": [
    "lst = ['유재석', '하하']\n",
    "lst[0]"
   ]
  },
  {
   "cell_type": "code",
   "execution_count": 2,
   "id": "596e3f4c",
   "metadata": {},
   "outputs": [
    {
     "data": {
      "text/plain": [
       "'하하'"
      ]
     },
     "execution_count": 2,
     "metadata": {},
     "output_type": "execute_result"
    }
   ],
   "source": [
    "lst[1]"
   ]
  }
 ],
 "metadata": {
  "kernelspec": {
   "display_name": "Python 3",
   "language": "python",
   "name": "python3"
  },
  "language_info": {
   "codemirror_mode": {
    "name": "ipython",
    "version": 3
   },
   "file_extension": ".py",
   "mimetype": "text/x-python",
   "name": "python",
   "nbconvert_exporter": "python",
   "pygments_lexer": "ipython3",
   "version": "3.8.13"
  }
 },
 "nbformat": 4,
 "nbformat_minor": 5
}
